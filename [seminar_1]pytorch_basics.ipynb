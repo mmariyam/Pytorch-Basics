{
  "nbformat": 4,
  "nbformat_minor": 0,
  "metadata": {
    "colab": {
      "name": "[seminar_1]pytorch_basics.ipynb",
      "provenance": [],
      "collapsed_sections": []
    },
    "kernelspec": {
      "display_name": "Python 3",
      "language": "python",
      "name": "python3"
    },
    "accelerator": "GPU"
  },
  "cells": [
    {
      "cell_type": "markdown",
      "source": [
        "## <h2 style=\"text-align: center;\"><b>PyTorch basics: syntax, torch.cuda and torch.autograd</b></h2>"
      ],
      "metadata": {
        "id": "Dug6EgfZ_7ah"
      }
    },
    {
      "metadata": {
        "id": "-Iv1eX2mYJ8v"
      },
      "cell_type": "markdown",
      "source": [
        "<p style=\"align: center;\"><img src=\"https://upload.wikimedia.org/wikipedia/commons/9/96/Pytorch_logo.png\" width=400 height=100></p>"
      ]
    },
    {
      "metadata": {
        "id": "JwiKExhuYJ8w"
      },
      "cell_type": "markdown",
      "source": [
        "Hi! In this notebook we will cover the basics of the **PyTorch deep learning framework**. "
      ]
    },
    {
      "metadata": {
        "id": "70_JTnaRbdPD"
      },
      "cell_type": "markdown",
      "source": [
        "<h3 style=\"text-align: center;\"><b>Intro</b></h3>"
      ]
    },
    {
      "metadata": {
        "id": "8UBMClK6bdPE"
      },
      "cell_type": "markdown",
      "source": [
        "**Frameworks** are the specific code libraries with their own internal structure and pipelines."
      ]
    },
    {
      "metadata": {
        "id": "tQoex-sZYJ8x"
      },
      "cell_type": "markdown",
      "source": [
        "There are many deep learning frameworks nowadays (02/2019). The difference between them is in the internal computation principles. For example, in **[Caffe](http://caffe.berkeleyvision.org/)** and **[Caffe2](https://caffe2.ai/)** you write the code using some \"ready blocks\" (just like the $LEGO^{TM}$ :). In **[TensorFlow](https://www.tensorflow.org/)** and **[Theano](http://deeplearning.net/software/theano/)** you declare the computation graph at first, then compile it and use it for inference/training (`tf.session()`). By the way, now TensorFlow (since v1.10) has the [Eager Execution](https://www.tensorflow.org/guide/eager), which can be handy for fast prototyping and debugging. **[Keras](https://keras.io/)** is a very popular and useful DL framework that allows to create networks fast and has many demanding features. "
      ]
    },
    {
      "metadata": {
        "id": "97MX7yrBYJ8y"
      },
      "cell_type": "markdown",
      "source": [
        "<p style=\"align: center;\"><img src=\"https://habrastorage.org/web/e3e/c3e/b78/e3ec3eb78d714a7993a6b922911c0866.png\" width=500 height=500></p>  \n",
        "<p style=\"text-align: center;\"><i>Image credit: https://habr.com/post/334380/</i><p>"
      ]
    },
    {
      "metadata": {
        "id": "h5yBQj7EbdPJ"
      },
      "cell_type": "markdown",
      "source": [
        "We will use PyTorch bacause it's been actively developed and supported by the community and [Facebook AI Research](https://research.fb.com/category/facebook-ai-research/)."
      ]
    },
    {
      "metadata": {
        "id": "J74O-qdJYJ80"
      },
      "cell_type": "markdown",
      "source": [
        "<h3 style=\"text-align: center;\"><b>Installation</b></h3>"
      ]
    },
    {
      "metadata": {
        "id": "WpXxZ4-4YJ83"
      },
      "cell_type": "markdown",
      "source": [
        "The detailed instruction on how to install PyTorch you can find on the [official PyTorch website](https://pytorch.org/)."
      ]
    },
    {
      "metadata": {
        "id": "uxdjjnqIYJ86"
      },
      "cell_type": "markdown",
      "source": [
        "<h3 style=\"text-align: center;\">Syntax<b></b></h3>"
      ]
    },
    {
      "metadata": {
        "id": "RtyozNmmYJ89"
      },
      "cell_type": "code",
      "source": [
        "import torch"
      ],
      "execution_count": null,
      "outputs": []
    },
    {
      "metadata": {
        "id": "zjfLQzEPYJ9B"
      },
      "cell_type": "markdown",
      "source": [
        "Some facts about PyTorch:  \n",
        "- dynamic computation graph\n",
        "- handy `torch.nn` and `torchvision` modules for fast neural network prototyping\n",
        "- even faster than TensorFlow on some tasks\n",
        "- allows to use GPU easily"
      ]
    },
    {
      "metadata": {
        "id": "0AL-T8TMYJ9D"
      },
      "cell_type": "markdown",
      "source": [
        "If PyTorch was a formula, it would be:  \n",
        "\n",
        "$$PyTorch = NumPy + CUDA + Autograd$$"
      ]
    },
    {
      "metadata": {
        "id": "X_O59VXWYJ9E"
      },
      "cell_type": "markdown",
      "source": [
        "(CUDA - [wiki](https://en.wikipedia.org/wiki/CUDA))"
      ]
    },
    {
      "metadata": {
        "id": "lWIeTFxSYJ9F"
      },
      "cell_type": "markdown",
      "source": [
        "Let's see how we can use PyTorch to operate with vectors and tensors.  \n",
        "\n",
        "Recall that **a tensor** is a multidimensional vector, e.g. :  \n",
        "\n",
        "`x = np.array([1,2,3])` -- a vector = a tensor with 1 dimension (to be more precise: `(1,)`)  \n",
        "`y = np.array([[1, 2, 3], [4, 5, 6]])` -- a matrix = a tensor with 2 dimensions (`(2, 3)` in this case)  \n",
        "`z = np.array([[[1, 2, 3], [4, 5, 6], [7, 8, 9]],  \n",
        "               [[1, 2, 3], [4, 5, 6], [7, 8, 9]],  \n",
        "               [[1, 2, 3], [4, 5, 6], [7, 8, 9]]])` -- \"a cube\" (3, 3, 3) = a tensor with 3 dimensions (`(3, 3, 3)` in this case)"
      ]
    },
    {
      "metadata": {
        "id": "hS97vo7mYJ9G"
      },
      "cell_type": "markdown",
      "source": [
        "One real example of 3-dimensional tensor is **an image**, it has 3 dimensions: `height`, `width` and the `channel depth` (= 3 for color images, 1 for a greyscale). You can think of it as of parallelepiped consisting of the real numbers."
      ]
    },
    {
      "metadata": {
        "id": "tEeGGtRiYJ9H"
      },
      "cell_type": "markdown",
      "source": [
        "In PyTorch we will use `torch.Tensor` (`FloatTensor`, `IntTensor`, `ByteTensor`) for all the computations."
      ]
    },
    {
      "metadata": {
        "id": "byu7xZtLYJ9J"
      },
      "cell_type": "markdown",
      "source": [
        "All tensor types:"
      ]
    },
    {
      "metadata": {
        "id": "lPIaCLY3YJ9K",
        "outputId": "5e988a80-4c1f-499d-c99b-e6df2f1a25be"
      },
      "cell_type": "code",
      "source": [
        "torch.HalfTensor      # 16 bits, floating point\n",
        "torch.FloatTensor     # 32 bits, floating point\n",
        "torch.DoubleTensor    # 64 bits, floating point\n",
        "\n",
        "torch.ShortTensor     # 16 bits, integer, signed\n",
        "torch.IntTensor       # 32 bits, integer, signed\n",
        "torch.LongTensor      # 64 bits, integer, signed\n",
        "\n",
        "torch.CharTensor      # 8 bits, integer, signed\n",
        "torch.ByteTensor      # 8 bits, integer, unsigned"
      ],
      "execution_count": null,
      "outputs": [
        {
          "output_type": "execute_result",
          "data": {
            "text/plain": [
              "torch.ByteTensor"
            ]
          },
          "metadata": {
            "tags": []
          },
          "execution_count": 4
        }
      ]
    },
    {
      "metadata": {
        "id": "NWk2gidNYJ9P"
      },
      "cell_type": "markdown",
      "source": [
        "We will use only `torch.FloatTensor()` and `torch.IntTensor()`. "
      ]
    },
    {
      "metadata": {
        "id": "CllyEKvVYJ9Q"
      },
      "cell_type": "markdown",
      "source": [
        "Let's begin to do something!"
      ]
    },
    {
      "metadata": {
        "id": "R4HEetsxYJ9Q"
      },
      "cell_type": "markdown",
      "source": [
        "* Creating the tensor:"
      ]
    },
    {
      "metadata": {
        "id": "MVawE9lRYJ9R",
        "outputId": "390852cb-eb5f-43db-fa5c-8342775f7450",
        "colab": {
          "base_uri": "https://localhost:8080/"
        }
      },
      "cell_type": "code",
      "source": [
        "a = torch.FloatTensor([1, 2])\n",
        "a"
      ],
      "execution_count": null,
      "outputs": [
        {
          "output_type": "execute_result",
          "data": {
            "text/plain": [
              "tensor([1., 2.])"
            ]
          },
          "metadata": {},
          "execution_count": 12
        }
      ]
    },
    {
      "metadata": {
        "id": "ARjaPS_GYJ9W",
        "outputId": "f6ede400-76f4-467c-8170-2b4f3f18b262"
      },
      "cell_type": "code",
      "source": [
        "a.shape"
      ],
      "execution_count": null,
      "outputs": [
        {
          "output_type": "execute_result",
          "data": {
            "text/plain": [
              "torch.Size([2])"
            ]
          },
          "metadata": {
            "tags": []
          },
          "execution_count": 6
        }
      ]
    },
    {
      "metadata": {
        "id": "4gXf0akDYJ9Z",
        "outputId": "00f41e92-4419-4f6b-da27-5a02ab8aebfc"
      },
      "cell_type": "code",
      "source": [
        "b = torch.FloatTensor([[1,2,3], [4,5,6]])\n",
        "b"
      ],
      "execution_count": null,
      "outputs": [
        {
          "output_type": "execute_result",
          "data": {
            "text/plain": [
              "tensor([[1., 2., 3.],\n",
              "        [4., 5., 6.]])"
            ]
          },
          "metadata": {
            "tags": []
          },
          "execution_count": 7
        }
      ]
    },
    {
      "metadata": {
        "id": "0HTkoIzpYJ9e",
        "outputId": "3833f329-6757-44c9-847c-95a7e848f0c5"
      },
      "cell_type": "code",
      "source": [
        "b.shape"
      ],
      "execution_count": null,
      "outputs": [
        {
          "output_type": "execute_result",
          "data": {
            "text/plain": [
              "torch.Size([2, 3])"
            ]
          },
          "metadata": {
            "tags": []
          },
          "execution_count": 8
        }
      ]
    },
    {
      "metadata": {
        "id": "WYJ9L-yFYJ9j"
      },
      "cell_type": "code",
      "source": [
        "x = torch.FloatTensor(2,3,4)"
      ],
      "execution_count": null,
      "outputs": []
    },
    {
      "metadata": {
        "id": "qWAEP27IYJ9m",
        "outputId": "466bc5b2-d9aa-499b-b9ac-f680f5ba6cc2"
      },
      "cell_type": "code",
      "source": [
        "x"
      ],
      "execution_count": null,
      "outputs": [
        {
          "output_type": "execute_result",
          "data": {
            "text/plain": [
              "tensor([[[-2.0181e+20,  9.6549e-43,  8.9683e-44,  0.0000e+00],\n",
              "         [ 0.0000e+00,  0.0000e+00,  0.0000e+00,  0.0000e+00],\n",
              "         [ 0.0000e+00,  1.5769e-19,  4.3202e-05,  1.7281e-04]],\n",
              "\n",
              "        [[ 5.3596e-08,  1.0384e-08,  8.2290e-10,  1.6779e+22],\n",
              "         [ 1.0633e-05,  8.3753e-10,  1.3443e+22,  2.7003e-06],\n",
              "         [ 3.4182e-06,  1.7091e-04,  1.0514e-05,  2.1254e-07]]])"
            ]
          },
          "metadata": {
            "tags": []
          },
          "execution_count": 10
        }
      ]
    },
    {
      "metadata": {
        "id": "o5CsOJ_xYJ9s",
        "outputId": "e95a7efe-61c4-425f-9c16-10ad2530bfa0",
        "scrolled": true
      },
      "cell_type": "code",
      "source": [
        "x = torch.FloatTensor(100)\n",
        "x"
      ],
      "execution_count": null,
      "outputs": [
        {
          "output_type": "execute_result",
          "data": {
            "text/plain": [
              "tensor([   nan,    nan, 0.0000, 0.0000, 0.0000, 0.0000, 0.0000, 0.0000, 0.0000,\n",
              "        0.0000, 0.0000, 0.0000, 0.0000, 0.0000, 0.0000, 0.0000, 0.0000, 0.0000,\n",
              "        0.0000, 0.0000, 0.0000, 0.0000, 0.0000, 0.0000, 0.0000, 0.0000, 0.0000,\n",
              "        0.0000, 0.0000, 0.0000, 0.0000, 0.0000, 0.0000, 0.0000, 0.0000, 0.0000,\n",
              "        0.0000, 0.0000, 0.0000, 0.0000, 0.0000, 0.0000, 0.0000, 0.0000, 0.0000,\n",
              "        0.0000, 0.0000, 0.0000, 0.0000, 0.0000, 0.0000, 0.0000, 0.0000, 0.0000,\n",
              "        0.0000, 0.0000, 0.0000, 0.0000, 0.0000, 0.0000, 0.0000, 0.0000, 0.0000,\n",
              "        0.0000, 0.0000, 0.0000, 0.0000, 0.0000, 0.0000, 0.0000, 0.0000, 0.0000,\n",
              "        0.0000, 0.0000, 0.0000, 0.0000, 0.0000, 0.0000, 0.0000, 0.0000, 0.0000,\n",
              "        0.0000, 0.0000, 0.0000, 0.0000, 0.0000, 0.0000, 0.0000, 0.0000, 0.0000,\n",
              "        0.0000, 0.0000, 0.0000, 0.0000, 0.0000, 0.0000, 0.0000, 0.0000, 0.0000,\n",
              "        0.0000])"
            ]
          },
          "metadata": {
            "tags": []
          },
          "execution_count": 11
        }
      ]
    },
    {
      "cell_type": "code",
      "source": [
        "x = torch.FloatTensor(100)\n",
        "x.shape"
      ],
      "metadata": {
        "colab": {
          "base_uri": "https://localhost:8080/"
        },
        "id": "5MRH_DEcdOrI",
        "outputId": "ec819046-2a57-4d48-eadd-fdb069683161"
      },
      "execution_count": null,
      "outputs": [
        {
          "output_type": "execute_result",
          "data": {
            "text/plain": [
              "torch.Size([100])"
            ]
          },
          "metadata": {},
          "execution_count": 3
        }
      ]
    },
    {
      "metadata": {
        "id": "uIVhvmzZYJ91",
        "outputId": "a74de636-f085-4b05-b2e8-1081062985e2"
      },
      "cell_type": "code",
      "source": [
        "x = torch.IntTensor(45, 57, 14, 2)\n",
        "x.shape"
      ],
      "execution_count": null,
      "outputs": [
        {
          "output_type": "execute_result",
          "data": {
            "text/plain": [
              "torch.Size([45, 57, 14, 2])"
            ]
          },
          "metadata": {
            "tags": []
          },
          "execution_count": 12
        }
      ]
    },
    {
      "metadata": {
        "id": "cUzl8DFRYJ95"
      },
      "cell_type": "markdown",
      "source": [
        "**Note:** if you create `torch.Tensor` with the following constructor it will be filled with the \"random trash numbers\":"
      ]
    },
    {
      "metadata": {
        "id": "QX0QcIOzYJ96",
        "outputId": "0e8f43f9-dff1-4d69-ce85-dfb8789d78da"
      },
      "cell_type": "code",
      "source": [
        "x = torch.IntTensor(3, 2, 4)\n",
        "x"
      ],
      "execution_count": null,
      "outputs": [
        {
          "output_type": "execute_result",
          "data": {
            "text/plain": [
              "tensor([[[-517008312,        689,         50,          0],\n",
              "         [         0,          0,          0,          0]],\n",
              "\n",
              "        [[         0,        689, 1852990827,  925789285],\n",
              "         [ 912537446,  758264118, 1701066594,  858797101]],\n",
              "\n",
              "        [[ 892874036, 1663907938, 1680879671,  925983284],\n",
              "         [ 778254689, 1952543859, 1600484213, 1970496882]]],\n",
              "       dtype=torch.int32)"
            ]
          },
          "metadata": {
            "tags": []
          },
          "execution_count": 13
        }
      ]
    },
    {
      "metadata": {
        "id": "utra2t4SbdQR"
      },
      "cell_type": "markdown",
      "source": [
        "Here is a way to fill a new tensor with zeroes:"
      ]
    },
    {
      "metadata": {
        "id": "XV3w9lVwYJ-A",
        "outputId": "0cf6fea1-add6-443f-dc11-d399b589c95f"
      },
      "cell_type": "code",
      "source": [
        "x = torch.IntTensor(3, 2, 4).zero_()\n",
        "x"
      ],
      "execution_count": null,
      "outputs": [
        {
          "output_type": "execute_result",
          "data": {
            "text/plain": [
              "tensor([[[0, 0, 0, 0],\n",
              "         [0, 0, 0, 0]],\n",
              "\n",
              "        [[0, 0, 0, 0],\n",
              "         [0, 0, 0, 0]],\n",
              "\n",
              "        [[0, 0, 0, 0],\n",
              "         [0, 0, 0, 0]]], dtype=torch.int32)"
            ]
          },
          "metadata": {
            "tags": []
          },
          "execution_count": 83
        }
      ]
    },
    {
      "cell_type": "markdown",
      "source": [
        "### Initialization of tensors\n"
      ],
      "metadata": {
        "id": "l0KP-6sqe6KO"
      }
    },
    {
      "cell_type": "code",
      "source": [
        "x1 = torch.FloatTensor(3, 2, 4)\n",
        "x1.zero_()\n",
        "x2 = torch.zeros(3, 2, 4)\n",
        "x3 = torch.zeros_like(x1)\n",
        "\n",
        "assert torch.allclose(x1, x2) and torch.allclose(x1, x3)"
      ],
      "metadata": {
        "id": "ZaDKpMWFe3gu"
      },
      "execution_count": null,
      "outputs": []
    },
    {
      "cell_type": "markdown",
      "source": [
        "Initialization of random distribution"
      ],
      "metadata": {
        "id": "1ToASbcTfthM"
      }
    },
    {
      "metadata": {
        "id": "SAAmLRwzYJ-E"
      },
      "cell_type": "markdown",
      "source": [
        "`np.reshape()` == `torch.view()`:"
      ]
    },
    {
      "cell_type": "code",
      "source": [
        "b"
      ],
      "metadata": {
        "id": "TG0ubUtWjXAn"
      },
      "execution_count": null,
      "outputs": []
    },
    {
      "cell_type": "markdown",
      "source": [
        "![Screenshot 2022-05-31 at 07.22.48.png](data:image/png;base64,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)\n",
        "\n"
      ],
      "metadata": {
        "id": "RSAzbfUQjZtR"
      }
    },
    {
      "metadata": {
        "id": "ePjL3X3GYJ-H",
        "outputId": "aabd638d-80af-40f4-e1a1-78d465d2e65f"
      },
      "cell_type": "code",
      "source": [
        "b.view(3, 2)"
      ],
      "execution_count": null,
      "outputs": [
        {
          "output_type": "execute_result",
          "data": {
            "text/plain": [
              "tensor([[1., 2.],\n",
              "        [3., 4.],\n",
              "        [5., 6.]])"
            ]
          },
          "metadata": {
            "tags": []
          },
          "execution_count": 14
        }
      ]
    },
    {
      "metadata": {
        "id": "amVu0N1zYJ-O"
      },
      "cell_type": "markdown",
      "source": [
        "**Note:** `torch.view()` creates a new tensor, one the old one remains unchanged"
      ]
    },
    {
      "metadata": {
        "id": "hWqyugOSYJ-Q",
        "outputId": "ab6dce61-7e71-40c4-ab72-a47d37802b88"
      },
      "cell_type": "code",
      "source": [
        "b.view(-1)"
      ],
      "execution_count": null,
      "outputs": [
        {
          "output_type": "execute_result",
          "data": {
            "text/plain": [
              "tensor([1., 2., 3., 4., 5., 6.])"
            ]
          },
          "metadata": {
            "tags": []
          },
          "execution_count": 16
        }
      ]
    },
    {
      "metadata": {
        "id": "S9CvF56uYJ-U",
        "outputId": "e58092ee-bc2f-4b94-f430-2786c733d315"
      },
      "cell_type": "code",
      "source": [
        "b"
      ],
      "execution_count": null,
      "outputs": [
        {
          "output_type": "execute_result",
          "data": {
            "text/plain": [
              "tensor([[1., 2., 3.],\n",
              "        [4., 5., 6.]])"
            ]
          },
          "metadata": {
            "tags": []
          },
          "execution_count": 17
        }
      ]
    },
    {
      "metadata": {
        "id": "t401j1E2YJ-Z"
      },
      "cell_type": "markdown",
      "source": [
        "* Change a tensor type:"
      ]
    },
    {
      "metadata": {
        "id": "f_iDUEH4YJ-Z"
      },
      "cell_type": "code",
      "source": [
        "a = torch.FloatTensor([1.5, 3.2, -7])"
      ],
      "execution_count": null,
      "outputs": []
    },
    {
      "metadata": {
        "id": "EzJOrXitYJ-e",
        "outputId": "ea9cd7e1-0e34-42a2-b89d-9e27bc43fdb3"
      },
      "cell_type": "code",
      "source": [
        "a.type_as(torch.IntTensor())"
      ],
      "execution_count": null,
      "outputs": [
        {
          "output_type": "execute_result",
          "data": {
            "text/plain": [
              "tensor([ 1,  3, -7], dtype=torch.int32)"
            ]
          },
          "metadata": {
            "tags": []
          },
          "execution_count": 18
        }
      ]
    },
    {
      "metadata": {
        "id": "hAe3OWWUYJ-i",
        "outputId": "53dc463a-47eb-4531-f38b-5bdc901bf572"
      },
      "cell_type": "code",
      "source": [
        "a.type_as(torch.ByteTensor())"
      ],
      "execution_count": null,
      "outputs": [
        {
          "output_type": "execute_result",
          "data": {
            "text/plain": [
              "tensor([  1,   3, 249], dtype=torch.uint8)"
            ]
          },
          "metadata": {
            "tags": []
          },
          "execution_count": 19
        }
      ]
    },
    {
      "metadata": {
        "id": "4rkatrUeYJ-n"
      },
      "cell_type": "markdown",
      "source": [
        "**Note:** `.type_as()` creates a new tensor, the old one remains unchanged"
      ]
    },
    {
      "metadata": {
        "id": "fCgDT14MYJ-o",
        "outputId": "c3828601-0218-4563-e47a-91817ffd253a"
      },
      "cell_type": "code",
      "source": [
        "a"
      ],
      "execution_count": null,
      "outputs": [
        {
          "output_type": "execute_result",
          "data": {
            "text/plain": [
              "tensor([ 1.5000,  3.2000, -7.0000])"
            ]
          },
          "metadata": {
            "tags": []
          },
          "execution_count": 20
        }
      ]
    },
    {
      "metadata": {
        "id": "hG1OwtFBYJ-r"
      },
      "cell_type": "markdown",
      "source": [
        "* Indexing is just like in `NumPy`:"
      ]
    },
    {
      "metadata": {
        "id": "prr0EGIYYJ-r",
        "outputId": "7228cf78-765f-483b-b4b7-ba032503e545"
      },
      "cell_type": "code",
      "source": [
        "a = torch.FloatTensor([[100, 20, 35], [15, 163, 534], [52, 90, 66]])\n",
        "a"
      ],
      "execution_count": null,
      "outputs": [
        {
          "output_type": "execute_result",
          "data": {
            "text/plain": [
              "tensor([[100.,  20.,  35.],\n",
              "        [ 15., 163., 534.],\n",
              "        [ 52.,  90.,  66.]])"
            ]
          },
          "metadata": {
            "tags": []
          },
          "execution_count": 18
        }
      ]
    },
    {
      "metadata": {
        "id": "IBq7JiccYJ-w",
        "outputId": "e0dd266d-7d63-4251-99f2-dc465746a17f"
      },
      "cell_type": "code",
      "source": [
        "a[0, 0]"
      ],
      "execution_count": null,
      "outputs": [
        {
          "output_type": "execute_result",
          "data": {
            "text/plain": [
              "tensor(100.)"
            ]
          },
          "metadata": {
            "tags": []
          },
          "execution_count": 19
        }
      ]
    },
    {
      "metadata": {
        "id": "vE9cb0XkYJ-z",
        "outputId": "057de53a-7eec-4163-da79-c9a7e02afcce"
      },
      "cell_type": "code",
      "source": [
        "a[0][0]"
      ],
      "execution_count": null,
      "outputs": [
        {
          "output_type": "execute_result",
          "data": {
            "text/plain": [
              "tensor(100.)"
            ]
          },
          "metadata": {
            "tags": []
          },
          "execution_count": 20
        }
      ]
    },
    {
      "metadata": {
        "id": "UUZzx2F_YJ-2",
        "outputId": "fc1331a9-ffb5-4861-eed1-2cae074914d2"
      },
      "cell_type": "code",
      "source": [
        "a[0:2, 0:2]"
      ],
      "execution_count": null,
      "outputs": [
        {
          "output_type": "execute_result",
          "data": {
            "text/plain": [
              "tensor([[100.,  20.],\n",
              "        [ 15., 163.]])"
            ]
          },
          "metadata": {
            "tags": []
          },
          "execution_count": 21
        }
      ]
    },
    {
      "metadata": {
        "id": "KffQsYwWYJ_D"
      },
      "cell_type": "markdown",
      "source": [
        "**Ariphmetics and boolean operations** and their analogues:  \n",
        "\n",
        "| Оператор | Аналог |\n",
        "|:-:|:-:|\n",
        "|`+`| `torch.add()` |\n",
        "|`-`| `torch.sub()` |\n",
        "|`*`| `torch.mul()` |\n",
        "|`/`| `torch.div()` |"
      ]
    },
    {
      "metadata": {
        "id": "UMpR8T11YJ_D"
      },
      "cell_type": "markdown",
      "source": [
        "* Addition:"
      ]
    },
    {
      "metadata": {
        "id": "1XHkSjEUYJ_D"
      },
      "cell_type": "code",
      "source": [
        "a = torch.FloatTensor([[1, 2, 3], [10, 20, 30], [100, 200, 300]])\n",
        "b = torch.FloatTensor([[-1, -2, -3], [-10, -20, -30], [100, 200, 300]])"
      ],
      "execution_count": null,
      "outputs": []
    },
    {
      "metadata": {
        "id": "td25tuFKYJ_H",
        "outputId": "441d0d2a-7fd5-4c46-b684-c18f0aeacaca"
      },
      "cell_type": "code",
      "source": [
        "a + b"
      ],
      "execution_count": null,
      "outputs": [
        {
          "output_type": "execute_result",
          "data": {
            "text/plain": [
              "tensor([[  0.,   0.,   0.],\n",
              "        [  0.,   0.,   0.],\n",
              "        [200., 400., 600.]])"
            ]
          },
          "metadata": {
            "tags": []
          },
          "execution_count": 23
        }
      ]
    },
    {
      "metadata": {
        "id": "wHka8PxFYJ_N",
        "outputId": "919e345c-1bce-45ee-d21c-097cafe07b4d"
      },
      "cell_type": "code",
      "source": [
        "a.add(b)"
      ],
      "execution_count": null,
      "outputs": [
        {
          "output_type": "execute_result",
          "data": {
            "text/plain": [
              "tensor([[  0.,   0.,   0.],\n",
              "        [  0.,   0.,   0.],\n",
              "        [200., 400., 600.]])"
            ]
          },
          "metadata": {
            "tags": []
          },
          "execution_count": 24
        }
      ]
    },
    {
      "metadata": {
        "id": "FHQj4DbBYJ_Q",
        "outputId": "a416faf0-c0e8-4514-dc0d-09295c282176"
      },
      "cell_type": "code",
      "source": [
        "b = -a\n",
        "b"
      ],
      "execution_count": null,
      "outputs": [
        {
          "output_type": "execute_result",
          "data": {
            "text/plain": [
              "tensor([[  -1.,   -2.,   -3.],\n",
              "        [ -10.,  -20.,  -30.],\n",
              "        [-100., -200., -300.]])"
            ]
          },
          "metadata": {
            "tags": []
          },
          "execution_count": 25
        }
      ]
    },
    {
      "metadata": {
        "id": "xLCDzO7iYJ_V",
        "outputId": "6d3a65f0-17a1-46a6-f402-3b18d9fe05eb"
      },
      "cell_type": "code",
      "source": [
        "a + b"
      ],
      "execution_count": null,
      "outputs": [
        {
          "output_type": "execute_result",
          "data": {
            "text/plain": [
              "tensor([[0., 0., 0.],\n",
              "        [0., 0., 0.],\n",
              "        [0., 0., 0.]])"
            ]
          },
          "metadata": {
            "tags": []
          },
          "execution_count": 26
        }
      ]
    },
    {
      "metadata": {
        "id": "z_3gVLY3YJ_Z"
      },
      "cell_type": "markdown",
      "source": [
        "* Subtraction:"
      ]
    },
    {
      "metadata": {
        "id": "PANHq3eFYJ_a",
        "outputId": "c21fba72-6779-4cde-ab74-8fe8d0ec5438"
      },
      "cell_type": "code",
      "source": [
        "a - b"
      ],
      "execution_count": null,
      "outputs": [
        {
          "output_type": "execute_result",
          "data": {
            "text/plain": [
              "tensor([[  2.,   4.,   6.],\n",
              "        [ 20.,  40.,  60.],\n",
              "        [200., 400., 600.]])"
            ]
          },
          "metadata": {
            "tags": []
          },
          "execution_count": 27
        }
      ]
    },
    {
      "metadata": {
        "id": "AH7xhdkRYJ_i",
        "outputId": "70ed9dba-43c7-42a9-bbe9-cc5bcfe3f924"
      },
      "cell_type": "code",
      "source": [
        "a.sub(b)"
      ],
      "execution_count": null,
      "outputs": [
        {
          "output_type": "execute_result",
          "data": {
            "text/plain": [
              "tensor([[  2.,   4.,   6.],\n",
              "        [ 20.,  40.,  60.],\n",
              "        [200., 400., 600.]])"
            ]
          },
          "metadata": {
            "tags": []
          },
          "execution_count": 94
        }
      ]
    },
    {
      "metadata": {
        "id": "KOX3dTuZYJ_l"
      },
      "cell_type": "markdown",
      "source": [
        "* Multiplication (elementwise):"
      ]
    },
    {
      "metadata": {
        "id": "J380CvNGYJ_m",
        "outputId": "4d641233-d110-40ca-8f88-b546ac7df1c2"
      },
      "cell_type": "code",
      "source": [
        "a * b"
      ],
      "execution_count": null,
      "outputs": [
        {
          "output_type": "execute_result",
          "data": {
            "text/plain": [
              "tensor([[    -1.,     -4.,     -9.],\n",
              "        [  -100.,   -400.,   -900.],\n",
              "        [-10000., -40000., -90000.]])"
            ]
          },
          "metadata": {
            "tags": []
          },
          "execution_count": 28
        }
      ]
    },
    {
      "metadata": {
        "id": "cixW0jgdYJ_o",
        "outputId": "91691a93-794e-4482-eec7-ab2830b59a25"
      },
      "cell_type": "code",
      "source": [
        "a.mul(b)"
      ],
      "execution_count": null,
      "outputs": [
        {
          "output_type": "execute_result",
          "data": {
            "text/plain": [
              "tensor([[    -1.,     -4.,     -9.],\n",
              "        [  -100.,   -400.,   -900.],\n",
              "        [-10000., -40000., -90000.]])"
            ]
          },
          "metadata": {
            "tags": []
          },
          "execution_count": 29
        }
      ]
    },
    {
      "metadata": {
        "id": "V-GYTERKYJ_q"
      },
      "cell_type": "markdown",
      "source": [
        "* Division (elementwise):"
      ]
    },
    {
      "metadata": {
        "id": "fUBQns2SYJ_r"
      },
      "cell_type": "code",
      "source": [
        "a = torch.FloatTensor([[1, 2, 3], [10, 20, 30], [100, 200, 300]])\n",
        "b = torch.FloatTensor([[-1, -2, -3], [-10, -20, -30], [100, 200, 300]])"
      ],
      "execution_count": null,
      "outputs": []
    },
    {
      "metadata": {
        "id": "2hrKeMjAYJ_v",
        "outputId": "2a589e95-b308-4c0c-9290-60512494e1bd"
      },
      "cell_type": "code",
      "source": [
        "a / b"
      ],
      "execution_count": null,
      "outputs": [
        {
          "output_type": "execute_result",
          "data": {
            "text/plain": [
              "tensor([[-1., -1., -1.],\n",
              "        [-1., -1., -1.],\n",
              "        [ 1.,  1.,  1.]])"
            ]
          },
          "metadata": {
            "tags": []
          },
          "execution_count": 31
        }
      ]
    },
    {
      "metadata": {
        "id": "KvcGLFVNYJ_0"
      },
      "cell_type": "markdown",
      "source": [
        "Лучше:"
      ]
    },
    {
      "metadata": {
        "id": "cpg3YFVPYJ_2",
        "outputId": "0cf1d61d-1834-41ea-96f0-ba8a24bb210b"
      },
      "cell_type": "code",
      "source": [
        "a.div(b)"
      ],
      "execution_count": null,
      "outputs": [
        {
          "output_type": "execute_result",
          "data": {
            "text/plain": [
              "tensor([[-1., -1., -1.],\n",
              "        [-1., -1., -1.],\n",
              "        [ 1.,  1.,  1.]])"
            ]
          },
          "metadata": {
            "tags": []
          },
          "execution_count": 32
        }
      ]
    },
    {
      "metadata": {
        "id": "VeLAbx1tYJ_7"
      },
      "cell_type": "markdown",
      "source": [
        "**Note:** all this operations create new tensors, the old tensors remain unchanged"
      ]
    },
    {
      "metadata": {
        "id": "57BFtnlgYJ_8",
        "outputId": "6b0ab791-b96b-49ca-f339-484fb21c9a3f"
      },
      "cell_type": "code",
      "source": [
        "a"
      ],
      "execution_count": null,
      "outputs": [
        {
          "output_type": "execute_result",
          "data": {
            "text/plain": [
              "tensor([[  1.,   2.,   3.],\n",
              "        [ 10.,  20.,  30.],\n",
              "        [100., 200., 300.]])"
            ]
          },
          "metadata": {
            "tags": []
          },
          "execution_count": 33
        }
      ]
    },
    {
      "metadata": {
        "id": "UziXyvtDYJ_-",
        "outputId": "8468055e-7708-4255-ebaf-1fa621ef970f"
      },
      "cell_type": "code",
      "source": [
        "b"
      ],
      "execution_count": null,
      "outputs": [
        {
          "output_type": "execute_result",
          "data": {
            "text/plain": [
              "tensor([[ -1.,  -2.,  -3.],\n",
              "        [-10., -20., -30.],\n",
              "        [100., 200., 300.]])"
            ]
          },
          "metadata": {
            "tags": []
          },
          "execution_count": 34
        }
      ]
    },
    {
      "metadata": {
        "id": "vLpwZPc3YKAC"
      },
      "cell_type": "markdown",
      "source": [
        "* Comparison operators:"
      ]
    },
    {
      "metadata": {
        "id": "FfRzvw_UYKAC"
      },
      "cell_type": "code",
      "source": [
        "a = torch.FloatTensor([[1, 2, 3], [10, 20, 30], [100, 200, 300]])\n",
        "b = torch.FloatTensor([[-1, -2, -3], [-10, -20, -30], [100, 200, 300]])"
      ],
      "execution_count": null,
      "outputs": []
    },
    {
      "metadata": {
        "id": "o1RUTP2BYKAD",
        "outputId": "3e2b13da-6b0b-4531-81bf-4d21298c9a16"
      },
      "cell_type": "code",
      "source": [
        "a == b"
      ],
      "execution_count": null,
      "outputs": [
        {
          "output_type": "execute_result",
          "data": {
            "text/plain": [
              "tensor([[0, 0, 0],\n",
              "        [0, 0, 0],\n",
              "        [1, 1, 1]], dtype=torch.uint8)"
            ]
          },
          "metadata": {
            "tags": []
          },
          "execution_count": 36
        }
      ]
    },
    {
      "metadata": {
        "id": "JO3HaVIAYKAF",
        "outputId": "d103a172-5fbc-42e5-ed8c-70604d54bfa9"
      },
      "cell_type": "code",
      "source": [
        "a != b"
      ],
      "execution_count": null,
      "outputs": [
        {
          "output_type": "execute_result",
          "data": {
            "text/plain": [
              "tensor([[1, 1, 1],\n",
              "        [1, 1, 1],\n",
              "        [0, 0, 0]], dtype=torch.uint8)"
            ]
          },
          "metadata": {
            "tags": []
          },
          "execution_count": 37
        }
      ]
    },
    {
      "metadata": {
        "id": "DExLBj4VYKAH",
        "outputId": "0bcd542d-47be-435f-8569-903e6b363a3d"
      },
      "cell_type": "code",
      "source": [
        "a < b"
      ],
      "execution_count": null,
      "outputs": [
        {
          "output_type": "execute_result",
          "data": {
            "text/plain": [
              "tensor([[0, 0, 0],\n",
              "        [0, 0, 0],\n",
              "        [0, 0, 0]], dtype=torch.uint8)"
            ]
          },
          "metadata": {
            "tags": []
          },
          "execution_count": 38
        }
      ]
    },
    {
      "metadata": {
        "id": "0_IH_FUNYKAJ",
        "outputId": "94602ba6-9a82-4522-827d-1ec114ac9185"
      },
      "cell_type": "code",
      "source": [
        "a > b"
      ],
      "execution_count": null,
      "outputs": [
        {
          "output_type": "execute_result",
          "data": {
            "text/plain": [
              "tensor([[1, 1, 1],\n",
              "        [1, 1, 1],\n",
              "        [0, 0, 0]], dtype=torch.uint8)"
            ]
          },
          "metadata": {
            "tags": []
          },
          "execution_count": 39
        }
      ]
    },
    {
      "metadata": {
        "id": "24nzBJR8YKAM"
      },
      "cell_type": "markdown",
      "source": [
        "* Using boolean mask indexing:"
      ]
    },
    {
      "metadata": {
        "id": "C-xVDslwYKAN",
        "outputId": "0794a382-8fcf-4a66-d440-d39f76ea2439"
      },
      "cell_type": "code",
      "source": [
        "a[a > b]"
      ],
      "execution_count": null,
      "outputs": [
        {
          "output_type": "execute_result",
          "data": {
            "text/plain": [
              "tensor([ 1.,  2.,  3., 10., 20., 30.])"
            ]
          },
          "metadata": {
            "tags": []
          },
          "execution_count": 43
        }
      ]
    },
    {
      "metadata": {
        "id": "XatDJF5YYKAQ",
        "outputId": "4e85dc39-c846-4b92-ac79-76b921cbe096"
      },
      "cell_type": "code",
      "source": [
        "b[a == b]"
      ],
      "execution_count": null,
      "outputs": [
        {
          "output_type": "execute_result",
          "data": {
            "text/plain": [
              "tensor([100., 200., 300.])"
            ]
          },
          "metadata": {
            "tags": []
          },
          "execution_count": 44
        }
      ]
    },
    {
      "metadata": {
        "id": "54bQky1bYKAf"
      },
      "cell_type": "markdown",
      "source": [
        "Elementwise application of the **universal functions**:"
      ]
    },
    {
      "metadata": {
        "id": "lWnGSuUhYKAf"
      },
      "cell_type": "code",
      "source": [
        "a = torch.FloatTensor([[1, 2, 3], [10, 20, 30], [100, 200, 300]])"
      ],
      "execution_count": null,
      "outputs": []
    },
    {
      "metadata": {
        "id": "J6ZyxZBNYKAl",
        "outputId": "1df429c0-60b7-4ce9-f0cd-00145923296a"
      },
      "cell_type": "code",
      "source": [
        "a.sin()"
      ],
      "execution_count": null,
      "outputs": [
        {
          "output_type": "execute_result",
          "data": {
            "text/plain": [
              "tensor([[ 0.8415,  0.9093,  0.1411],\n",
              "        [-0.5440,  0.9129, -0.9880],\n",
              "        [-0.5064, -0.8733, -0.9998]])"
            ]
          },
          "metadata": {
            "tags": []
          },
          "execution_count": 46
        }
      ]
    },
    {
      "metadata": {
        "id": "SScTSkJMYKAo",
        "outputId": "fdf7d1bf-efab-49ba-bc75-cc107d0b87bd"
      },
      "cell_type": "code",
      "source": [
        "torch.sin(a)"
      ],
      "execution_count": null,
      "outputs": [
        {
          "output_type": "execute_result",
          "data": {
            "text/plain": [
              "tensor([[ 0.8415,  0.9093,  0.1411],\n",
              "        [-0.5440,  0.9129, -0.9880],\n",
              "        [-0.5064, -0.8733, -0.9998]])"
            ]
          },
          "metadata": {
            "tags": []
          },
          "execution_count": 47
        }
      ]
    },
    {
      "metadata": {
        "id": "0bYVYVV7YKAr",
        "outputId": "e0705a7e-5d5d-4fcf-9710-7a109d797fb7"
      },
      "cell_type": "code",
      "source": [
        "a.cos()"
      ],
      "execution_count": null,
      "outputs": [
        {
          "output_type": "execute_result",
          "data": {
            "text/plain": [
              "tensor([[ 0.5403, -0.4161, -0.9900],\n",
              "        [-0.8391,  0.4081,  0.1543],\n",
              "        [ 0.8623,  0.4872, -0.0221]])"
            ]
          },
          "metadata": {
            "tags": []
          },
          "execution_count": 48
        }
      ]
    },
    {
      "metadata": {
        "id": "c-rYL8HQYKAt",
        "outputId": "55051cd8-627a-4594-d9ac-82976a0c73b6"
      },
      "cell_type": "code",
      "source": [
        "a.exp()"
      ],
      "execution_count": null,
      "outputs": [
        {
          "output_type": "execute_result",
          "data": {
            "text/plain": [
              "tensor([[2.7183e+00, 7.3891e+00, 2.0086e+01],\n",
              "        [2.2026e+04, 4.8517e+08, 1.0686e+13],\n",
              "        [       inf,        inf,        inf]])"
            ]
          },
          "metadata": {
            "tags": []
          },
          "execution_count": 49
        }
      ]
    },
    {
      "metadata": {
        "id": "EbiCDYUzYKAw",
        "outputId": "ac1e3627-617e-4f37-875c-0adc20e8fbaa"
      },
      "cell_type": "code",
      "source": [
        "a.log()"
      ],
      "execution_count": null,
      "outputs": [
        {
          "output_type": "execute_result",
          "data": {
            "text/plain": [
              "tensor([[0.0000, 0.6931, 1.0986],\n",
              "        [2.3026, 2.9957, 3.4012],\n",
              "        [4.6052, 5.2983, 5.7038]])"
            ]
          },
          "metadata": {
            "tags": []
          },
          "execution_count": 50
        }
      ]
    },
    {
      "metadata": {
        "id": "yh1sySpiYKAy",
        "outputId": "6908104e-8250-4041-c7d1-de44ef13fc2f"
      },
      "cell_type": "code",
      "source": [
        "b = -a\n",
        "b"
      ],
      "execution_count": null,
      "outputs": [
        {
          "output_type": "execute_result",
          "data": {
            "text/plain": [
              "tensor([[  -1.,   -2.,   -3.],\n",
              "        [ -10.,  -20.,  -30.],\n",
              "        [-100., -200., -300.]])"
            ]
          },
          "metadata": {
            "tags": []
          },
          "execution_count": 51
        }
      ]
    },
    {
      "metadata": {
        "id": "PNU0UxqIYKA2",
        "outputId": "230053f8-ffc0-4d62-9ee0-73d24b8a6bc4"
      },
      "cell_type": "code",
      "source": [
        "b.abs()"
      ],
      "execution_count": null,
      "outputs": [
        {
          "output_type": "execute_result",
          "data": {
            "text/plain": [
              "tensor([[  1.,   2.,   3.],\n",
              "        [ 10.,  20.,  30.],\n",
              "        [100., 200., 300.]])"
            ]
          },
          "metadata": {
            "tags": []
          },
          "execution_count": 52
        }
      ]
    },
    {
      "metadata": {
        "id": "eqERQjISYKA9"
      },
      "cell_type": "markdown",
      "source": [
        "* The sum, mean, max, min:"
      ]
    },
    {
      "metadata": {
        "id": "HLmJGdl9YKA-",
        "outputId": "55275b53-d830-4530-f024-9603879269fd"
      },
      "cell_type": "code",
      "source": [
        "a.sum()"
      ],
      "execution_count": null,
      "outputs": [
        {
          "output_type": "execute_result",
          "data": {
            "text/plain": [
              "tensor(666.)"
            ]
          },
          "metadata": {
            "tags": []
          },
          "execution_count": 55
        }
      ]
    },
    {
      "metadata": {
        "id": "ervIuNGnYKBD",
        "outputId": "a21ff9f0-34da-4d7a-e95a-49239822d053"
      },
      "cell_type": "code",
      "source": [
        "a.mean()"
      ],
      "execution_count": null,
      "outputs": [
        {
          "output_type": "execute_result",
          "data": {
            "text/plain": [
              "tensor(74.)"
            ]
          },
          "metadata": {
            "tags": []
          },
          "execution_count": 56
        }
      ]
    },
    {
      "metadata": {
        "id": "1qxkdUQ2YKBF"
      },
      "cell_type": "markdown",
      "source": [
        "Along axis:"
      ]
    },
    {
      "metadata": {
        "id": "OzU2H7jBbdS-",
        "outputId": "5e0be10e-08b7-4f0a-b69d-f5079bf86e8a"
      },
      "cell_type": "code",
      "source": [
        "a"
      ],
      "execution_count": null,
      "outputs": [
        {
          "output_type": "execute_result",
          "data": {
            "text/plain": [
              "tensor([[  1.,   2.,   3.],\n",
              "        [ 10.,  20.,  30.],\n",
              "        [100., 200., 300.]])"
            ]
          },
          "metadata": {
            "tags": []
          },
          "execution_count": 64
        }
      ]
    },
    {
      "metadata": {
        "id": "cc6RjJYeYKBG",
        "outputId": "3ab3407e-c63f-4a9e-9534-9244c953b671"
      },
      "cell_type": "code",
      "source": [
        "a.sum(0)"
      ],
      "execution_count": null,
      "outputs": [
        {
          "output_type": "execute_result",
          "data": {
            "text/plain": [
              "tensor([111., 222., 333.])"
            ]
          },
          "metadata": {
            "tags": []
          },
          "execution_count": 58
        }
      ]
    },
    {
      "metadata": {
        "id": "Dgi5BmhOYKBJ",
        "outputId": "7a57158b-ea66-46bf-ac15-5591ba6e6000"
      },
      "cell_type": "code",
      "source": [
        "a.sum(1)"
      ],
      "execution_count": null,
      "outputs": [
        {
          "output_type": "execute_result",
          "data": {
            "text/plain": [
              "tensor([  6.,  60., 600.])"
            ]
          },
          "metadata": {
            "tags": []
          },
          "execution_count": 59
        }
      ]
    },
    {
      "metadata": {
        "id": "-tIkcTENYKBK",
        "outputId": "6292c5e3-da1e-4a1b-b803-015a91aaef6d"
      },
      "cell_type": "code",
      "source": [
        "a.max()"
      ],
      "execution_count": null,
      "outputs": [
        {
          "output_type": "execute_result",
          "data": {
            "text/plain": [
              "tensor(300.)"
            ]
          },
          "metadata": {
            "tags": []
          },
          "execution_count": 60
        }
      ]
    },
    {
      "metadata": {
        "id": "V4U_LyyPYKBL",
        "outputId": "9b22f063-7ec0-48e8-a65e-7de1e87ba796"
      },
      "cell_type": "code",
      "source": [
        "a.max(0)"
      ],
      "execution_count": null,
      "outputs": [
        {
          "output_type": "execute_result",
          "data": {
            "text/plain": [
              "(tensor([100., 200., 300.]), tensor([2, 2, 2]))"
            ]
          },
          "metadata": {
            "tags": []
          },
          "execution_count": 61
        }
      ]
    },
    {
      "metadata": {
        "id": "TSqmVtWjYKBO",
        "outputId": "f65b698c-826e-4b97-da8f-0153e3bae821"
      },
      "cell_type": "code",
      "source": [
        "a.min()"
      ],
      "execution_count": null,
      "outputs": [
        {
          "output_type": "execute_result",
          "data": {
            "text/plain": [
              "tensor(1.)"
            ]
          },
          "metadata": {
            "tags": []
          },
          "execution_count": 62
        }
      ]
    },
    {
      "metadata": {
        "id": "OeA2hlZ2YKBP",
        "outputId": "668880df-8589-4d5f-c92e-6142a84058db"
      },
      "cell_type": "code",
      "source": [
        "a.min(0)"
      ],
      "execution_count": null,
      "outputs": [
        {
          "output_type": "execute_result",
          "data": {
            "text/plain": [
              "(tensor([1., 2., 3.]), tensor([0, 0, 0]))"
            ]
          },
          "metadata": {
            "tags": []
          },
          "execution_count": 63
        }
      ]
    },
    {
      "metadata": {
        "id": "Ys-9hnr4YKBS"
      },
      "cell_type": "markdown",
      "source": [
        "**Note:** the second tensor returned by `.max()` and `.min()` contains the indices of max/min elements along this axis. E.g. in that case `a.min()` returned `(1, 2, 3)` which are the minimum elements along 0 axis (along columns) and their indices along 0 axis are `(0, 0, 0)`."
      ]
    },
    {
      "metadata": {
        "id": "kepFeTZ0YKBV"
      },
      "cell_type": "markdown",
      "source": [
        "**Matrix operations**:"
      ]
    },
    {
      "metadata": {
        "id": "7RYm3mdrYKBX"
      },
      "cell_type": "markdown",
      "source": [
        "* Transpose a tensor:"
      ]
    },
    {
      "metadata": {
        "id": "T8-1TSkeYKBY",
        "outputId": "c2367178-b759-462d-9f22-08f13ca6c56e"
      },
      "cell_type": "code",
      "source": [
        "a = torch.FloatTensor([[1, 2, 3], [10, 20, 30], [100, 200, 300]])\n",
        "a"
      ],
      "execution_count": null,
      "outputs": [
        {
          "output_type": "execute_result",
          "data": {
            "text/plain": [
              "tensor([[  1.,   2.,   3.],\n",
              "        [ 10.,  20.,  30.],\n",
              "        [100., 200., 300.]])"
            ]
          },
          "metadata": {
            "tags": []
          },
          "execution_count": 65
        }
      ]
    },
    {
      "metadata": {
        "id": "HSAZwai7YKBa",
        "outputId": "d8d0bbc2-1283-4dc2-cbd3-be45a9b3b6e9"
      },
      "cell_type": "code",
      "source": [
        "a.t()"
      ],
      "execution_count": null,
      "outputs": [
        {
          "output_type": "execute_result",
          "data": {
            "text/plain": [
              "tensor([[  1.,  10., 100.],\n",
              "        [  2.,  20., 200.],\n",
              "        [  3.,  30., 300.]])"
            ]
          },
          "metadata": {
            "tags": []
          },
          "execution_count": 66
        }
      ]
    },
    {
      "metadata": {
        "id": "QqsPkleRYKBd"
      },
      "cell_type": "markdown",
      "source": [
        "It is not not the inplace operation too:"
      ]
    },
    {
      "metadata": {
        "id": "NRPamd2EYKBe",
        "outputId": "eedf4477-f1c3-4527-ab34-cdd914d556e9"
      },
      "cell_type": "code",
      "source": [
        "a"
      ],
      "execution_count": null,
      "outputs": [
        {
          "output_type": "execute_result",
          "data": {
            "text/plain": [
              "tensor([[  1.,   2.,   3.],\n",
              "        [ 10.,  20.,  30.],\n",
              "        [100., 200., 300.]])"
            ]
          },
          "metadata": {
            "tags": []
          },
          "execution_count": 67
        }
      ]
    },
    {
      "metadata": {
        "id": "q8YhoxHPYKBh"
      },
      "cell_type": "markdown",
      "source": [
        "* Dot product of vectors:"
      ]
    },
    {
      "metadata": {
        "id": "i1pRtl7HYKBi"
      },
      "cell_type": "code",
      "source": [
        "a = torch.FloatTensor([1, 2, 3, 4, 5, 6])\n",
        "b = torch.FloatTensor([-1, -2, -4, -6, -8, -10])"
      ],
      "execution_count": null,
      "outputs": []
    },
    {
      "metadata": {
        "id": "qcS-28dwYKBp",
        "outputId": "38a9040f-e59b-468c-c2e2-caee3d56b993"
      },
      "cell_type": "code",
      "source": [
        "a.dot(b)"
      ],
      "execution_count": null,
      "outputs": [
        {
          "output_type": "execute_result",
          "data": {
            "text/plain": [
              "tensor(-141.)"
            ]
          },
          "metadata": {
            "tags": []
          },
          "execution_count": 69
        }
      ]
    },
    {
      "metadata": {
        "id": "MXyhOelQYKBs",
        "outputId": "f0ec3908-d565-4eb6-cf46-fdaf4c20cc50"
      },
      "cell_type": "code",
      "source": [
        "a @ b"
      ],
      "execution_count": null,
      "outputs": [
        {
          "output_type": "execute_result",
          "data": {
            "text/plain": [
              "tensor(-141.)"
            ]
          },
          "metadata": {
            "tags": []
          },
          "execution_count": 70
        }
      ]
    },
    {
      "metadata": {
        "id": "sxqg4xhoYKBt",
        "outputId": "66c3dec7-220f-420b-9677-b88f5a0db078"
      },
      "cell_type": "code",
      "source": [
        "type(a)"
      ],
      "execution_count": null,
      "outputs": [
        {
          "output_type": "execute_result",
          "data": {
            "text/plain": [
              "torch.Tensor"
            ]
          },
          "metadata": {
            "tags": []
          },
          "execution_count": 71
        }
      ]
    },
    {
      "metadata": {
        "id": "_v2ZjPqDYKBz",
        "outputId": "7c6d752f-d697-4bcb-b65f-6ca8db4d0cec"
      },
      "cell_type": "code",
      "source": [
        "type(b)"
      ],
      "execution_count": null,
      "outputs": [
        {
          "output_type": "execute_result",
          "data": {
            "text/plain": [
              "torch.Tensor"
            ]
          },
          "metadata": {
            "tags": []
          },
          "execution_count": 72
        }
      ]
    },
    {
      "metadata": {
        "id": "UsWB9vTuYKB0",
        "outputId": "e591fa1a-2ac6-43f1-d9a8-28bab50caaef"
      },
      "cell_type": "code",
      "source": [
        "type(a @ b)"
      ],
      "execution_count": null,
      "outputs": [
        {
          "output_type": "execute_result",
          "data": {
            "text/plain": [
              "torch.Tensor"
            ]
          },
          "metadata": {
            "tags": []
          },
          "execution_count": 73
        }
      ]
    },
    {
      "metadata": {
        "id": "KSrnLwkGYKB1"
      },
      "cell_type": "markdown",
      "source": [
        "* Matrix product:"
      ]
    },
    {
      "metadata": {
        "id": "ViurnbjPYKB2"
      },
      "cell_type": "code",
      "source": [
        "a = torch.FloatTensor([[1, 2, 3], [10, 20, 30], [100, 200, 300]])\n",
        "b = torch.FloatTensor([[-1, -2, -3], [-10, -20, -30], [100, 200, 300]])"
      ],
      "execution_count": null,
      "outputs": []
    },
    {
      "metadata": {
        "id": "5TrCnfWiYKB3",
        "outputId": "38f50f16-6be9-4523-e0ca-0743a4b400a3"
      },
      "cell_type": "code",
      "source": [
        "a.mm(b)"
      ],
      "execution_count": null,
      "outputs": [
        {
          "output_type": "execute_result",
          "data": {
            "text/plain": [
              "tensor([[  279.,   558.,   837.],\n",
              "        [ 2790.,  5580.,  8370.],\n",
              "        [27900., 55800., 83700.]])"
            ]
          },
          "metadata": {
            "tags": []
          },
          "execution_count": 75
        }
      ]
    },
    {
      "metadata": {
        "id": "HMzIz-_MYKB4",
        "outputId": "9b149f62-fa77-4859-d6e9-41b8839d1bff"
      },
      "cell_type": "code",
      "source": [
        "a @ b"
      ],
      "execution_count": null,
      "outputs": [
        {
          "output_type": "execute_result",
          "data": {
            "text/plain": [
              "tensor([[  279.,   558.,   837.],\n",
              "        [ 2790.,  5580.,  8370.],\n",
              "        [27900., 55800., 83700.]])"
            ]
          },
          "metadata": {
            "tags": []
          },
          "execution_count": 76
        }
      ]
    },
    {
      "metadata": {
        "id": "Ig2pr52xYKB5"
      },
      "cell_type": "markdown",
      "source": [
        "Remain unchanged:"
      ]
    },
    {
      "metadata": {
        "id": "22QOePSyYKB6",
        "outputId": "204fcd82-a75c-43cf-d670-bb04fac63cfe"
      },
      "cell_type": "code",
      "source": [
        "a"
      ],
      "execution_count": null,
      "outputs": [
        {
          "output_type": "execute_result",
          "data": {
            "text/plain": [
              "tensor([[  1.,   2.,   3.],\n",
              "        [ 10.,  20.,  30.],\n",
              "        [100., 200., 300.]])"
            ]
          },
          "metadata": {
            "tags": []
          },
          "execution_count": 77
        }
      ]
    },
    {
      "metadata": {
        "id": "JHr6eKADYKB6",
        "outputId": "bc4df416-6bdb-4aaa-b93f-000b1219222b"
      },
      "cell_type": "code",
      "source": [
        "b"
      ],
      "execution_count": null,
      "outputs": [
        {
          "output_type": "execute_result",
          "data": {
            "text/plain": [
              "tensor([[ -1.,  -2.,  -3.],\n",
              "        [-10., -20., -30.],\n",
              "        [100., 200., 300.]])"
            ]
          },
          "metadata": {
            "tags": []
          },
          "execution_count": 78
        }
      ]
    },
    {
      "metadata": {
        "id": "vtuvt20-YKB8"
      },
      "cell_type": "code",
      "source": [
        "a = torch.FloatTensor([[1, 2, 3], [10, 20, 30], [100, 200, 300]])\n",
        "b = torch.FloatTensor([[-1], [-10], [100]])"
      ],
      "execution_count": null,
      "outputs": []
    },
    {
      "metadata": {
        "id": "fdDnu5XjYKB9",
        "outputId": "cc0a9d0c-d63f-468d-907a-05f836fa9828"
      },
      "cell_type": "code",
      "source": [
        "print(a.shape, b.shape)"
      ],
      "execution_count": null,
      "outputs": [
        {
          "output_type": "stream",
          "text": [
            "torch.Size([3, 3]) torch.Size([3, 1])\n"
          ],
          "name": "stdout"
        }
      ]
    },
    {
      "metadata": {
        "id": "oD4N4WN8YKB_",
        "outputId": "babf6634-58db-49be-80f6-b949f074c83a"
      },
      "cell_type": "code",
      "source": [
        "a @ b"
      ],
      "execution_count": null,
      "outputs": [
        {
          "output_type": "execute_result",
          "data": {
            "text/plain": [
              "tensor([[  279.],\n",
              "        [ 2790.],\n",
              "        [27900.]])"
            ]
          },
          "metadata": {
            "tags": []
          },
          "execution_count": 81
        }
      ]
    },
    {
      "metadata": {
        "id": "va9w-BavYKCB"
      },
      "cell_type": "markdown",
      "source": [
        "If we unroll the tensor `b` in an array (`torch.view(-1)`) the multiplication would be like with the column:"
      ]
    },
    {
      "metadata": {
        "id": "V7KsdYcBYKCC",
        "outputId": "9e2f3ec8-1f56-4c9c-d0a0-a98fda07faeb"
      },
      "cell_type": "code",
      "source": [
        "b"
      ],
      "execution_count": null,
      "outputs": [
        {
          "output_type": "execute_result",
          "data": {
            "text/plain": [
              "tensor([[ -1.],\n",
              "        [-10.],\n",
              "        [100.]])"
            ]
          },
          "metadata": {
            "tags": []
          },
          "execution_count": 82
        }
      ]
    },
    {
      "metadata": {
        "id": "t7k6spayYKCF",
        "outputId": "04926526-0040-4c8f-8e7c-de195bc0590e"
      },
      "cell_type": "code",
      "source": [
        "b.view(-1)"
      ],
      "execution_count": null,
      "outputs": [
        {
          "output_type": "execute_result",
          "data": {
            "text/plain": [
              "tensor([ -1., -10., 100.])"
            ]
          },
          "metadata": {
            "tags": []
          },
          "execution_count": 83
        }
      ]
    },
    {
      "metadata": {
        "id": "8u8xQ20bYKCH",
        "outputId": "02532845-68a0-4280-cd68-3a31aff29f48"
      },
      "cell_type": "code",
      "source": [
        "a @ b.view(-1)"
      ],
      "execution_count": null,
      "outputs": [
        {
          "output_type": "execute_result",
          "data": {
            "text/plain": [
              "tensor([  279.,  2790., 27900.])"
            ]
          },
          "metadata": {
            "tags": []
          },
          "execution_count": 84
        }
      ]
    },
    {
      "metadata": {
        "id": "QvCu1sJEYKCJ",
        "outputId": "9776bf5e-a880-4141-9340-9881da45066d"
      },
      "cell_type": "code",
      "source": [
        "a.mv(b.view(-1))"
      ],
      "execution_count": null,
      "outputs": [
        {
          "output_type": "execute_result",
          "data": {
            "text/plain": [
              "tensor([  279.,  2790., 27900.])"
            ]
          },
          "metadata": {
            "tags": []
          },
          "execution_count": 85
        }
      ]
    },
    {
      "metadata": {
        "id": "gZitrCN6YKCL"
      },
      "cell_type": "markdown",
      "source": [
        "**From NumPu to PyTorch conversion**:"
      ]
    },
    {
      "metadata": {
        "id": "bnLS4CGXYKCL",
        "outputId": "12cdf1ad-af71-4ab5-95f0-bfa937664f88"
      },
      "cell_type": "code",
      "source": [
        "import numpy as np\n",
        "\n",
        "a = np.random.rand(3, 3)\n",
        "a"
      ],
      "execution_count": null,
      "outputs": [
        {
          "output_type": "execute_result",
          "data": {
            "text/plain": [
              "array([[0.34519832, 0.04236831, 0.57928844],\n",
              "       [0.6905661 , 0.57932408, 0.20164703],\n",
              "       [0.13019621, 0.68795847, 0.90742991]])"
            ]
          },
          "metadata": {
            "tags": []
          },
          "execution_count": 86
        }
      ]
    },
    {
      "metadata": {
        "id": "PXge57waYKCM",
        "outputId": "c9a6ab8f-f1d5-40bf-8196-e9ebc346d9ef"
      },
      "cell_type": "code",
      "source": [
        "b = torch.from_numpy(a)\n",
        "b"
      ],
      "execution_count": null,
      "outputs": [
        {
          "output_type": "execute_result",
          "data": {
            "text/plain": [
              "tensor([[0.3452, 0.0424, 0.5793],\n",
              "        [0.6906, 0.5793, 0.2016],\n",
              "        [0.1302, 0.6880, 0.9074]], dtype=torch.float64)"
            ]
          },
          "metadata": {
            "tags": []
          },
          "execution_count": 87
        }
      ]
    },
    {
      "metadata": {
        "id": "Nvcr3ymPYKCN"
      },
      "cell_type": "markdown",
      "source": [
        "**NOTE!** `a` and `b` have the same data storage, so the changes in one tensor will lead to the changes in another:"
      ]
    },
    {
      "metadata": {
        "id": "0N_ZW6TQYKCN",
        "outputId": "58717139-15fe-4481-9c7a-e2707076af15"
      },
      "cell_type": "code",
      "source": [
        "b -= b\n",
        "b"
      ],
      "execution_count": null,
      "outputs": [
        {
          "output_type": "execute_result",
          "data": {
            "text/plain": [
              "tensor([[0., 0., 0.],\n",
              "        [0., 0., 0.],\n",
              "        [0., 0., 0.]], dtype=torch.float64)"
            ]
          },
          "metadata": {
            "tags": []
          },
          "execution_count": 90
        }
      ]
    },
    {
      "metadata": {
        "id": "wzUnCKsiYKCP",
        "outputId": "a2a76868-1dff-4ba1-9631-6d51dd1d6523"
      },
      "cell_type": "code",
      "source": [
        "a"
      ],
      "execution_count": null,
      "outputs": [
        {
          "output_type": "execute_result",
          "data": {
            "text/plain": [
              "array([[0., 0., 0.],\n",
              "       [0., 0., 0.],\n",
              "       [0., 0., 0.]])"
            ]
          },
          "metadata": {
            "tags": []
          },
          "execution_count": 91
        }
      ]
    },
    {
      "metadata": {
        "id": "Al73RqKSYKCR"
      },
      "cell_type": "markdown",
      "source": [
        "**From PyTorch to NumPy conversion:**"
      ]
    },
    {
      "metadata": {
        "id": "u5rngw4vYKCR",
        "outputId": "89bad9d3-3f9a-4047-e3ba-3b4c4f65fa2f"
      },
      "cell_type": "code",
      "source": [
        "a = torch.FloatTensor(2, 3, 4)\n",
        "a"
      ],
      "execution_count": null,
      "outputs": [
        {
          "output_type": "execute_result",
          "data": {
            "text/plain": [
              "tensor([[[-2.0183e+20,  9.6549e-43,  8.9683e-44,  0.0000e+00],\n",
              "         [ 0.0000e+00,  0.0000e+00,  0.0000e+00,  0.0000e+00],\n",
              "         [ 0.0000e+00,  0.0000e+00,  2.6368e-09,  6.6649e-10]],\n",
              "\n",
              "        [[ 8.3742e-10,  1.6985e+22,  1.6617e+22,  1.7248e-07],\n",
              "         [ 5.3480e+22,  3.2501e+21,  1.6614e-07,  4.3960e-05],\n",
              "         [ 6.6283e-10,  2.7200e+23,  2.6688e-09,  5.2439e-08]]])"
            ]
          },
          "metadata": {
            "tags": []
          },
          "execution_count": 92
        }
      ]
    },
    {
      "metadata": {
        "id": "yjK68Kk-YKCS",
        "outputId": "d45da6e7-f087-4457-8ce7-c4dabd4fd4fa"
      },
      "cell_type": "code",
      "source": [
        "type(a)"
      ],
      "execution_count": null,
      "outputs": [
        {
          "output_type": "execute_result",
          "data": {
            "text/plain": [
              "torch.Tensor"
            ]
          },
          "metadata": {
            "tags": []
          },
          "execution_count": 93
        }
      ]
    },
    {
      "metadata": {
        "id": "viLUF7gQYKCU",
        "outputId": "11b68e23-6d5f-4e23-e5e3-4b3b1c7c408a"
      },
      "cell_type": "code",
      "source": [
        "x = a.numpy()\n",
        "x"
      ],
      "execution_count": null,
      "outputs": [
        {
          "output_type": "execute_result",
          "data": {
            "text/plain": [
              "array([[[-2.0182896e+20,  9.6549464e-43,  8.9683102e-44,  0.0000000e+00],\n",
              "        [ 0.0000000e+00,  0.0000000e+00,  0.0000000e+00,  0.0000000e+00],\n",
              "        [ 0.0000000e+00,  0.0000000e+00,  2.6367610e-09,  6.6649175e-10]],\n",
              "\n",
              "       [[ 8.3742002e-10,  1.6985472e+22,  1.6616884e+22,  1.7248090e-07],\n",
              "        [ 5.3479665e+22,  3.2501012e+21,  1.6613997e-07,  4.3959721e-05],\n",
              "        [ 6.6282829e-10,  2.7199904e+23,  2.6687641e-09,  5.2438931e-08]]],\n",
              "      dtype=float32)"
            ]
          },
          "metadata": {
            "tags": []
          },
          "execution_count": 94
        }
      ]
    },
    {
      "metadata": {
        "id": "9HxgiLxKYKCV",
        "outputId": "fb84e251-e314-4828-ccc6-eb3cf7d40b1c"
      },
      "cell_type": "code",
      "source": [
        "x.shape"
      ],
      "execution_count": null,
      "outputs": [
        {
          "output_type": "execute_result",
          "data": {
            "text/plain": [
              "(2, 3, 4)"
            ]
          },
          "metadata": {
            "tags": []
          },
          "execution_count": 95
        }
      ]
    },
    {
      "metadata": {
        "id": "SdW5bhmeYKCX",
        "outputId": "fd819e54-8fc0-4389-92a9-41cfa7dc9786"
      },
      "cell_type": "code",
      "source": [
        "type(x)"
      ],
      "execution_count": null,
      "outputs": [
        {
          "output_type": "execute_result",
          "data": {
            "text/plain": [
              "numpy.ndarray"
            ]
          },
          "metadata": {
            "tags": []
          },
          "execution_count": 96
        }
      ]
    },
    {
      "metadata": {
        "id": "7-KS81rUYKCY"
      },
      "cell_type": "markdown",
      "source": [
        "Let's write the `forward_pass(X, w)` ($w_0$ is a part of the $w$) for a single neuron (activation = sigmoid) using PyTorch:"
      ]
    },
    {
      "metadata": {
        "id": "vkaIwpn6YKCY"
      },
      "cell_type": "code",
      "source": [
        "def forward_pass(X, w):\n",
        "    return torch.sigmoid(X @ w)"
      ],
      "execution_count": null,
      "outputs": []
    },
    {
      "metadata": {
        "id": "VyqlDItxYKCZ",
        "outputId": "87ae60cb-715b-456e-b92e-992ea55db795"
      },
      "cell_type": "code",
      "source": [
        "X = torch.FloatTensor([[-5, 5], [2, 3], [1, -1]])\n",
        "w = torch.FloatTensor([[-0.5], [2.5]])\n",
        "result = forward_pass(X, w)\n",
        "print('result: {}'.format(result))"
      ],
      "execution_count": null,
      "outputs": [
        {
          "output_type": "stream",
          "text": [
            "result: tensor([[1.0000],\n",
            "        [0.9985],\n",
            "        [0.0474]])\n"
          ],
          "name": "stdout"
        }
      ]
    },
    {
      "metadata": {
        "id": "MzLVLQ2GYKCa"
      },
      "cell_type": "markdown",
      "source": [
        "<h3 style=\"text-align: center;\"><a href=\"https://ru.wikipedia.org/wiki/CUDA\">CUDA</a></h3>"
      ]
    },
    {
      "metadata": {
        "id": "PrIicAAiYKCa"
      },
      "cell_type": "markdown",
      "source": [
        "[CUDA documentation](https://docs.nvidia.com/cuda/)"
      ]
    },
    {
      "metadata": {
        "id": "2nDkAG6NYKCa"
      },
      "cell_type": "markdown",
      "source": [
        "We can use both CPU (Central Processing Unit) and GPU (Graphical Processing Unit) to make the computations with PyTorch. We can switch between them easily, this is one of the most important things in PyTorch framework."
      ]
    },
    {
      "metadata": {
        "id": "_0Nsl2IoYKCa",
        "outputId": "93510974-05a5-4a77-fe33-25208cca12cf"
      },
      "cell_type": "code",
      "source": [
        "x = torch.FloatTensor(1024, 1024).uniform_()\n",
        "x"
      ],
      "execution_count": null,
      "outputs": [
        {
          "output_type": "execute_result",
          "data": {
            "text/plain": [
              "tensor([[0.5014, 0.8881, 0.7444,  ..., 0.5334, 0.9433, 0.1463],\n",
              "        [0.6501, 0.3321, 0.5408,  ..., 0.1567, 0.1845, 0.2583],\n",
              "        [0.1461, 0.8356, 0.4672,  ..., 0.0601, 0.2228, 0.4179],\n",
              "        ...,\n",
              "        [0.0636, 0.6334, 0.2438,  ..., 0.8984, 0.7754, 0.0656],\n",
              "        [0.7069, 0.9595, 0.7826,  ..., 0.4149, 0.9736, 0.4854],\n",
              "        [0.5677, 0.6183, 0.1889,  ..., 0.0494, 0.0806, 0.6742]])"
            ]
          },
          "metadata": {
            "tags": []
          },
          "execution_count": 99
        }
      ]
    },
    {
      "metadata": {
        "id": "FVr5_SAdYKCb",
        "outputId": "e4f3d375-f02f-402a-a5c5-912ead39ca76"
      },
      "cell_type": "code",
      "source": [
        "x.is_cuda"
      ],
      "execution_count": null,
      "outputs": [
        {
          "output_type": "execute_result",
          "data": {
            "text/plain": [
              "False"
            ]
          },
          "metadata": {
            "tags": []
          },
          "execution_count": 100
        }
      ]
    },
    {
      "metadata": {
        "id": "mAy8GGXAYKCd"
      },
      "cell_type": "markdown",
      "source": [
        "Place a tensor on GPU:"
      ]
    },
    {
      "metadata": {
        "id": "6UGKZbfyYKCd"
      },
      "cell_type": "code",
      "source": [
        "x = x.cuda()"
      ],
      "execution_count": null,
      "outputs": []
    },
    {
      "metadata": {
        "id": "ue2SLd9nYKCd",
        "outputId": "50a73229-ba39-45b2-f4b1-19f790a20643"
      },
      "cell_type": "code",
      "source": [
        "x.is_cuda"
      ],
      "execution_count": null,
      "outputs": [
        {
          "output_type": "execute_result",
          "data": {
            "text/plain": [
              "True"
            ]
          },
          "metadata": {
            "tags": []
          },
          "execution_count": 102
        }
      ]
    },
    {
      "metadata": {
        "id": "dqs1JNv3YKCe"
      },
      "cell_type": "code",
      "source": [
        "x"
      ],
      "execution_count": null,
      "outputs": []
    },
    {
      "metadata": {
        "id": "dI73B59PYKCg"
      },
      "cell_type": "markdown",
      "source": [
        "Let's multiply two tensors on GPU and then move the result on the CPU:"
      ]
    },
    {
      "metadata": {
        "id": "KS4QxJJoYKCg"
      },
      "cell_type": "code",
      "source": [
        "a = torch.FloatTensor(10000, 10000).uniform_()\n",
        "b = torch.FloatTensor(10000, 10000).uniform_()\n",
        "c = a.cuda().mul(b.cuda()).cpu()"
      ],
      "execution_count": null,
      "outputs": []
    },
    {
      "metadata": {
        "id": "1ImlgEbwYKCg"
      },
      "cell_type": "code",
      "source": [
        "c"
      ],
      "execution_count": null,
      "outputs": []
    },
    {
      "metadata": {
        "id": "4DAN9MhDYKCh",
        "outputId": "2ee2c90b-07e4-46c6-d7fe-e34b589e8ea1"
      },
      "cell_type": "code",
      "source": [
        "a"
      ],
      "execution_count": null,
      "outputs": [
        {
          "output_type": "execute_result",
          "data": {
            "text/plain": [
              "tensor([[0.5724, 0.8463, 0.4107,  ..., 0.7273, 0.2798, 0.4015],\n",
              "        [0.9141, 0.2181, 0.4628,  ..., 0.4209, 0.7936, 0.9492],\n",
              "        [0.9088, 0.8321, 0.0150,  ..., 0.7916, 0.7781, 0.8836],\n",
              "        ...,\n",
              "        [0.1261, 0.6659, 0.0699,  ..., 0.9778, 0.3513, 0.0458],\n",
              "        [0.4079, 0.5140, 0.4856,  ..., 0.9339, 0.3075, 0.2588],\n",
              "        [0.7020, 0.0596, 0.7305,  ..., 0.3154, 0.0388, 0.1946]])"
            ]
          },
          "metadata": {
            "tags": []
          },
          "execution_count": 109
        }
      ]
    },
    {
      "metadata": {
        "id": "xWc-PiA9YKCi"
      },
      "cell_type": "markdown",
      "source": [
        "Tensors placed on CPU and tensors placed on GPU are unavailable for each other:"
      ]
    },
    {
      "metadata": {
        "id": "1lwV1sgSYKCi"
      },
      "cell_type": "code",
      "source": [
        "a = torch.FloatTensor(10000, 10000).uniform_().cpu()\n",
        "b = torch.FloatTensor(10000, 10000).uniform_().cuda()"
      ],
      "execution_count": null,
      "outputs": []
    },
    {
      "metadata": {
        "id": "G6tYdYtTYKCj",
        "outputId": "402a280c-4907-49df-92f4-3a5818f72478"
      },
      "cell_type": "code",
      "source": [
        "a + b"
      ],
      "execution_count": null,
      "outputs": [
        {
          "output_type": "error",
          "ename": "RuntimeError",
          "evalue": "Expected object of type torch.FloatTensor but found type torch.cuda.FloatTensor for argument #3 'other'",
          "traceback": [
            "\u001b[1;31m---------------------------------------------------------------------------\u001b[0m",
            "\u001b[1;31mRuntimeError\u001b[0m                              Traceback (most recent call last)",
            "\u001b[1;32m<ipython-input-181-bd58363a63fc>\u001b[0m in \u001b[0;36m<module>\u001b[1;34m()\u001b[0m\n\u001b[1;32m----> 1\u001b[1;33m \u001b[0ma\u001b[0m \u001b[1;33m+\u001b[0m \u001b[0mb\u001b[0m\u001b[1;33m\u001b[0m\u001b[0m\n\u001b[0m",
            "\u001b[1;31mRuntimeError\u001b[0m: Expected object of type torch.FloatTensor but found type torch.cuda.FloatTensor for argument #3 'other'"
          ]
        }
      ]
    },
    {
      "metadata": {
        "id": "QEtwaIxDYKCk"
      },
      "cell_type": "markdown",
      "source": [
        "Example of working with GPU:"
      ]
    },
    {
      "metadata": {
        "id": "bJgVfAbUYKCk",
        "outputId": "3d761ebc-89fc-4e2b-9a3f-54bb74d11ebe",
        "scrolled": true
      },
      "cell_type": "code",
      "source": [
        "x = torch.FloatTensor(5, 5, 5).uniform_()\n",
        "\n",
        "# check for CUDA availability (NVIDIA GPU)\n",
        "if torch.cuda.is_available():\n",
        "    # get the CUDA device name\n",
        "    device = torch.device('cuda')          # CUDA-device object\n",
        "    y = torch.ones_like(x, device=device)  # create a tensor on GPU\n",
        "    x = x.to(device)                       # or just `.to(\"cuda\")`\n",
        "    z = x + y\n",
        "    print(z)\n",
        "    # you can set the type while `.to` operation\n",
        "    print(z.to(\"cpu\", torch.double))"
      ],
      "execution_count": null,
      "outputs": [
        {
          "output_type": "stream",
          "text": [
            "tensor([[[1.9693, 1.1198, 1.0172, 1.2034, 1.2875],\n",
            "         [1.4131, 1.3164, 1.9345, 1.9337, 1.9572],\n",
            "         [1.7345, 1.2186, 1.9105, 1.6177, 1.1420],\n",
            "         [1.6490, 1.1597, 1.5847, 1.6580, 1.8715],\n",
            "         [1.0228, 1.0453, 1.0512, 1.1437, 1.1437]],\n",
            "\n",
            "        [[1.7028, 1.4623, 1.1701, 1.0893, 1.0764],\n",
            "         [1.2116, 1.5412, 1.0967, 1.8721, 1.9107],\n",
            "         [1.1340, 1.1484, 1.4099, 1.4459, 1.7837],\n",
            "         [1.3865, 1.0431, 1.3485, 1.6199, 1.0908],\n",
            "         [1.4057, 1.8685, 1.2232, 1.4738, 1.3243]],\n",
            "\n",
            "        [[1.2735, 1.7283, 1.4247, 1.9058, 1.8978],\n",
            "         [1.2789, 1.7611, 1.8657, 1.1219, 1.0049],\n",
            "         [1.2962, 1.6973, 1.7559, 1.2467, 1.7554],\n",
            "         [1.9915, 1.2676, 1.8824, 1.6168, 1.6185],\n",
            "         [1.8360, 1.0345, 1.2038, 1.7657, 1.8525]],\n",
            "\n",
            "        [[1.5283, 1.6573, 1.5225, 1.4269, 1.2714],\n",
            "         [1.0401, 1.5209, 1.4956, 1.9208, 1.8503],\n",
            "         [1.2160, 1.6476, 1.2769, 1.7877, 1.7272],\n",
            "         [1.3110, 1.1294, 1.3310, 1.3048, 1.4476],\n",
            "         [1.2117, 1.9958, 1.4981, 1.4867, 1.8652]],\n",
            "\n",
            "        [[1.2041, 1.9721, 1.5594, 1.8929, 1.7112],\n",
            "         [1.1751, 1.3152, 1.7033, 1.0654, 1.1322],\n",
            "         [1.6051, 1.0064, 1.7763, 1.3360, 1.9534],\n",
            "         [1.7684, 1.1432, 1.1610, 1.6972, 1.7266],\n",
            "         [1.5783, 1.3838, 1.8352, 1.8236, 1.3754]]], device='cuda:0')\n",
            "tensor([[[1.9693, 1.1198, 1.0172, 1.2034, 1.2875],\n",
            "         [1.4131, 1.3164, 1.9345, 1.9337, 1.9572],\n",
            "         [1.7345, 1.2186, 1.9105, 1.6177, 1.1420],\n",
            "         [1.6490, 1.1597, 1.5847, 1.6580, 1.8715],\n",
            "         [1.0228, 1.0453, 1.0512, 1.1437, 1.1437]],\n",
            "\n",
            "        [[1.7028, 1.4623, 1.1701, 1.0893, 1.0764],\n",
            "         [1.2116, 1.5412, 1.0967, 1.8721, 1.9107],\n",
            "         [1.1340, 1.1484, 1.4099, 1.4459, 1.7837],\n",
            "         [1.3865, 1.0431, 1.3485, 1.6199, 1.0908],\n",
            "         [1.4057, 1.8685, 1.2232, 1.4738, 1.3243]],\n",
            "\n",
            "        [[1.2735, 1.7283, 1.4247, 1.9058, 1.8978],\n",
            "         [1.2789, 1.7611, 1.8657, 1.1219, 1.0049],\n",
            "         [1.2962, 1.6973, 1.7559, 1.2467, 1.7554],\n",
            "         [1.9915, 1.2676, 1.8824, 1.6168, 1.6185],\n",
            "         [1.8360, 1.0345, 1.2038, 1.7657, 1.8525]],\n",
            "\n",
            "        [[1.5283, 1.6573, 1.5225, 1.4269, 1.2714],\n",
            "         [1.0401, 1.5209, 1.4956, 1.9208, 1.8503],\n",
            "         [1.2160, 1.6476, 1.2769, 1.7877, 1.7272],\n",
            "         [1.3110, 1.1294, 1.3310, 1.3048, 1.4476],\n",
            "         [1.2117, 1.9958, 1.4981, 1.4867, 1.8652]],\n",
            "\n",
            "        [[1.2041, 1.9721, 1.5594, 1.8929, 1.7112],\n",
            "         [1.1751, 1.3152, 1.7033, 1.0654, 1.1322],\n",
            "         [1.6051, 1.0064, 1.7763, 1.3360, 1.9534],\n",
            "         [1.7684, 1.1432, 1.1610, 1.6972, 1.7266],\n",
            "         [1.5783, 1.3838, 1.8352, 1.8236, 1.3754]]], dtype=torch.float64)\n"
          ],
          "name": "stdout"
        }
      ]
    },
    {
      "metadata": {
        "id": "iFg82MJIYKCl"
      },
      "cell_type": "markdown",
      "source": [
        "<h3 style=\"text-align: center;\">Autograd<b></b></h3>"
      ]
    },
    {
      "metadata": {
        "id": "udpOWYK-YKCm"
      },
      "cell_type": "markdown",
      "source": [
        "The autograd package provides automatic differentiation for all operations on Tensors. It is a define-by-run framework, which means that your backprop is defined by how your code is run, and that every single iteration can be different."
      ]
    },
    {
      "metadata": {
        "id": "OAfNuSknYKCm"
      },
      "cell_type": "markdown",
      "source": [
        "Importing the `Variable()` class:"
      ]
    },
    {
      "metadata": {
        "id": "PJdDG51vYKCm"
      },
      "cell_type": "code",
      "source": [
        "from torch.autograd import Variable"
      ],
      "execution_count": null,
      "outputs": []
    },
    {
      "metadata": {
        "id": "dZzZFE-0YKCm"
      },
      "cell_type": "markdown",
      "source": [
        "Now we will convert `torch.Tensor()` into `torch.Variable()` and we will get just the same tensor but the possibility to calculate the gradients with respect to this tensor."
      ]
    },
    {
      "metadata": {
        "id": "VzMGFf1xYKCm"
      },
      "cell_type": "markdown",
      "source": [
        "If `а` is a tensor wrapped into `Variable()`, then `a.backward()` calculates the gradients with respect to all the tensors on which the tensor `a` depends."
      ]
    },
    {
      "metadata": {
        "id": "bTVyleFWYKCn"
      },
      "cell_type": "markdown",
      "source": [
        "**Note:** If you use `pytorch 0.4.0` version (or newer), then `torch.Tensor` and `torch.Variable()` were merged into `torch.Tensor`, so one doesn't need to use `Variable()` any more. (`torch.Variable()` is deprecated)."
      ]
    },
    {
      "metadata": {
        "id": "AEDz971fYKCn"
      },
      "cell_type": "markdown",
      "source": [
        "The examples:"
      ]
    },
    {
      "metadata": {
        "id": "rYWqXsAjYKCn"
      },
      "cell_type": "code",
      "source": [
        "x = torch.FloatTensor(3, 1).uniform_()\n",
        "y = torch.FloatTensor(3, 1).uniform_()\n",
        "w = torch.FloatTensor(3, 3).uniform_() \n",
        "b = torch.FloatTensor(3, 1).uniform_()\n",
        "\n",
        "x = Variable(x, requires_grad=True)\n",
        "y = Variable(x, requires_grad=False)\n",
        "w = Variable(w, requires_grad=True)\n",
        "b = Variable(b, requires_grad=True)\n",
        "\n",
        "y_pred = (w @ x).add_(b)\n",
        "\n",
        "loss = (y_pred - y).sum()\n",
        "\n",
        "# calculate the gradients\n",
        "loss.backward()"
      ],
      "execution_count": null,
      "outputs": []
    },
    {
      "metadata": {
        "id": "ZsePHOo0YKCp",
        "outputId": "652875bc-e5bd-4a73-abc5-7760e49810b1"
      },
      "cell_type": "code",
      "source": [
        "x.grad"
      ],
      "execution_count": null,
      "outputs": [
        {
          "output_type": "execute_result",
          "data": {
            "text/plain": [
              "tensor([[1.0422],\n",
              "        [1.1374],\n",
              "        [1.0037]])"
            ]
          },
          "metadata": {
            "tags": []
          },
          "execution_count": 122
        }
      ]
    },
    {
      "metadata": {
        "id": "qLkn5C7JYKCp",
        "outputId": "3bfd1927-4962-45ac-c8d3-053b1ebae784"
      },
      "cell_type": "code",
      "source": [
        "w.grad"
      ],
      "execution_count": null,
      "outputs": [
        {
          "output_type": "execute_result",
          "data": {
            "text/plain": [
              "tensor([[0.0262, 0.8391, 0.0517],\n",
              "        [0.0262, 0.8391, 0.0517],\n",
              "        [0.0262, 0.8391, 0.0517]])"
            ]
          },
          "metadata": {
            "tags": []
          },
          "execution_count": 123
        }
      ]
    },
    {
      "metadata": {
        "id": "CYkrFbD5YKCq",
        "outputId": "d14cb42f-60df-4e6e-b53a-2a235bcc5062"
      },
      "cell_type": "code",
      "source": [
        "b.grad"
      ],
      "execution_count": null,
      "outputs": [
        {
          "output_type": "execute_result",
          "data": {
            "text/plain": [
              "tensor([[1.],\n",
              "        [1.],\n",
              "        [1.]])"
            ]
          },
          "metadata": {
            "tags": []
          },
          "execution_count": 124
        }
      ]
    },
    {
      "metadata": {
        "id": "ouMNnbtXYKCr"
      },
      "cell_type": "code",
      "source": [
        "y.grad"
      ],
      "execution_count": null,
      "outputs": []
    },
    {
      "metadata": {
        "id": "MgUAuK6LbdU1"
      },
      "cell_type": "code",
      "source": [
        "loss.grad"
      ],
      "execution_count": null,
      "outputs": []
    },
    {
      "metadata": {
        "id": "DIsqxWIvYKCs"
      },
      "cell_type": "markdown",
      "source": [
        "**NOTE:** the gradients are placed into the `.grad` field of tensors (variables) on which gradients were calculated. Gradients *are not placed* in the variable `loss` here!"
      ]
    },
    {
      "metadata": {
        "id": "Nf2xLNDgYKCs"
      },
      "cell_type": "markdown",
      "source": [
        "Here is how to get `torch.Tensor()` from the `Variable()` (`.data` field):"
      ]
    },
    {
      "metadata": {
        "id": "5wU_TFedYKCt",
        "outputId": "9b98a122-a26b-4f09-b3c6-933e550682a4"
      },
      "cell_type": "code",
      "source": [
        "x"
      ],
      "execution_count": null,
      "outputs": [
        {
          "output_type": "execute_result",
          "data": {
            "text/plain": [
              "tensor([[0.0262],\n",
              "        [0.8391],\n",
              "        [0.0517]], requires_grad=True)"
            ]
          },
          "metadata": {
            "tags": []
          },
          "execution_count": 127
        }
      ]
    },
    {
      "metadata": {
        "id": "_NnBKF9kYKCt",
        "outputId": "f9e34f9d-6442-4a50-cbc4-7ac52a8a026b"
      },
      "cell_type": "code",
      "source": [
        "x.data"
      ],
      "execution_count": null,
      "outputs": [
        {
          "output_type": "execute_result",
          "data": {
            "text/plain": [
              "tensor([[0.0262],\n",
              "        [0.8391],\n",
              "        [0.0517]])"
            ]
          },
          "metadata": {
            "tags": []
          },
          "execution_count": 128
        }
      ]
    },
    {
      "metadata": {
        "id": "J094WEHQYKCv"
      },
      "cell_type": "markdown",
      "source": [
        "<h3 style=\"text-align: center;\">Further reading:<b></b></h3>"
      ]
    },
    {
      "metadata": {
        "id": "ftVUTfvUYKCv"
      },
      "cell_type": "markdown",
      "source": [
        "*1). Official PyTorch tutorials: https://pytorch.org/tutorials/beginner/blitz/tensor_tutorial.html#sphx-glr-beginner-blitz-tensor-tutorial-py*"
      ]
    },
    {
      "metadata": {
        "id": "ovymy5F6YKCw"
      },
      "cell_type": "markdown",
      "source": [
        "*2). arXiv article about the deep learning frameworks comparison: https://arxiv.org/pdf/1511.06435.pdf*"
      ]
    },
    {
      "metadata": {
        "id": "VXEEowQAYKCx"
      },
      "cell_type": "markdown",
      "source": [
        "*3). Useful repo with different tutorials: https://github.com/yunjey/pytorch-tutorial*"
      ]
    },
    {
      "metadata": {
        "id": "9cROZcrYYKC0"
      },
      "cell_type": "markdown",
      "source": [
        "*4). Facebook AI Research (main contributor of PyTorch) website: https://facebook.ai/developers/tools*"
      ]
    }
  ]
}